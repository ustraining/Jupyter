{
  "metadata": {
    "language_info": {
      "codemirror_mode": {
        "name": "python",
        "version": 3
      },
      "file_extension": ".py",
      "mimetype": "text/x-python",
      "name": "python",
      "nbconvert_exporter": "python",
      "pygments_lexer": "ipython3",
      "version": "3.8"
    },
    "kernelspec": {
      "name": "python",
      "display_name": "Python (Pyodide)",
      "language": "python"
    }
  },
  "nbformat_minor": 4,
  "nbformat": 4,
  "cells": [
    {
      "cell_type": "markdown",
      "source": "# Tools for data science",
      "metadata": {}
    },
    {
      "cell_type": "markdown",
      "source": "## This is an assignment for the course \"Tools for data science\"",
      "metadata": {}
    },
    {
      "cell_type": "markdown",
      "source": "### - Data science languages are: python, R, SQL",
      "metadata": {}
    },
    {
      "cell_type": "markdown",
      "source": "### - Libraries include: Pandas, Numpy, Matplotlib, Keras",
      "metadata": {}
    },
    {
      "cell_type": "markdown",
      "source": "###  - Table\n| Category | Tool |\n| -------------| ------ |\n| Data Management | MongoDB |\n| Model Depolyment | Tensorflow services |\n| Code Asset Management | GitHub |",
      "metadata": {}
    },
    {
      "cell_type": "markdown",
      "source": "### - 2+3*4 is a arithmetic expression in python, it equals 14",
      "metadata": {}
    },
    {
      "cell_type": "code",
      "source": "2+3*4",
      "metadata": {
        "trusted": true
      },
      "execution_count": 10,
      "outputs": [
        {
          "execution_count": 10,
          "output_type": "execute_result",
          "data": {
            "text/plain": "14"
          },
          "metadata": {}
        }
      ]
    },
    {
      "cell_type": "code",
      "source": "# Convert Minutes to hours. 777 minutes = 12.95 hrs\nminutes = 777 \nhours = minutes / 60\nprint(hours)",
      "metadata": {
        "trusted": true
      },
      "execution_count": 16,
      "outputs": [
        {
          "name": "stdout",
          "text": "12.95\n",
          "output_type": "stream"
        }
      ]
    },
    {
      "cell_type": "markdown",
      "source": "## List of Objectives\n* Create a Jupyter Notebook with markdown and code cells\n* List examples of languages, libraries and tools used in Data Science\n* Share your Jupyter Notebook publicly on GitHub\n* Evaluate notebooks submitted by your peers using the provided rubric\n* Demonstrate proficiency in Data Science toolkit knowledge",
      "metadata": {}
    },
    {
      "cell_type": "markdown",
      "source": "##### Author: Chris Chen",
      "metadata": {}
    }
  ]
}